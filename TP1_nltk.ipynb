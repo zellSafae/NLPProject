{
  "nbformat": 4,
  "nbformat_minor": 0,
  "metadata": {
    "colab": {
      "name": "Untitled3.ipynb",
      "provenance": []
    },
    "kernelspec": {
      "name": "python3",
      "display_name": "Python 3"
    },
    "language_info": {
      "name": "python"
    }
  },
  "cells": [
    {
      "cell_type": "code",
      "metadata": {
        "colab": {
          "base_uri": "https://localhost:8080/"
        },
        "id": "rHfNb1ogAMII",
        "outputId": "8888cd95-c21a-4731-ffff-15dce3395d49"
      },
      "source": [
        "# *****************zellou safae - TP1 -  Processing texts using nltk library ****************************\n",
        "!pip install nltk\n",
        "import nltk \n",
        "import string \n",
        "textEng=\"\"\"Perhaps one of the most significant advances made by Arabic mathematics began at this time with the work of al-Khwarizmi, namely \n",
        "the beginnings of algebra. It is important to understand just how significant this new idea was. It was a revolutionary move away from \n",
        "the Greek concept of mathematics which was essentially geometry. Algebra was a unifying theory which allowed rational \n",
        "numbers, irrational numbers, geometrical magnitudes, etc., to all be treated as \"algebraic objects\". It gave mathematics a whole new \n",
        "development path so much broader in concept to that which had existed before, and provided a vehicle for future development of the \n",
        "subject. Another important aspect of the introduction of algebraic ideas was that it allowed mathematics to be applied to itself in a \n",
        "way which had not happened before.\"\"\"\n",
        "#lowercase\n",
        "textEng=textEng.lower()\n",
        "print(textEng)\n"
      ],
      "execution_count": 3,
      "outputs": [
        {
          "output_type": "stream",
          "text": [
            "Requirement already satisfied: nltk in /usr/local/lib/python3.7/dist-packages (3.2.5)\n",
            "Requirement already satisfied: six in /usr/local/lib/python3.7/dist-packages (from nltk) (1.15.0)\n",
            "perhaps one of the most significant advances made by arabic mathematics began at this time with the work of al-khwarizmi, namely \n",
            "the beginnings of algebra. it is important to understand just how significant this new idea was. it was a revolutionary move away from \n",
            "the greek concept of mathematics which was essentially geometry. algebra was a unifying theory which allowed rational \n",
            "numbers, irrational numbers, geometrical magnitudes, etc., to all be treated as \"algebraic objects\". it gave mathematics a whole new \n",
            "development path so much broader in concept to that which had existed before, and provided a vehicle for future development of the \n",
            "subject. another important aspect of the introduction of algebraic ideas was that it allowed mathematics to be applied to itself in a \n",
            "way which had not happened before.\n"
          ],
          "name": "stdout"
        }
      ]
    },
    {
      "cell_type": "code",
      "metadata": {
        "colab": {
          "base_uri": "https://localhost:8080/"
        },
        "id": "JkDHCGulAoOr",
        "outputId": "fa41a3b2-d2d6-4328-b880-af0fdfdbc955"
      },
      "source": [
        "# punctuation elimination\n",
        "import re\n",
        "# Le modèle de regex [^\\w\\s] capture tout ce qui n’est pas un mot ou des espaces (c’est-à-dire les ponctuations) et le remplace par une chaîne vide\n",
        "nopuncttext = re.sub(r'[^\\w\\s]','',textEng)\n",
        "print(nopuncttext)"
      ],
      "execution_count": 4,
      "outputs": [
        {
          "output_type": "stream",
          "text": [
            "perhaps one of the most significant advances made by arabic mathematics began at this time with the work of alkhwarizmi namely \n",
            "the beginnings of algebra it is important to understand just how significant this new idea was it was a revolutionary move away from \n",
            "the greek concept of mathematics which was essentially geometry algebra was a unifying theory which allowed rational \n",
            "numbers irrational numbers geometrical magnitudes etc to all be treated as algebraic objects it gave mathematics a whole new \n",
            "development path so much broader in concept to that which had existed before and provided a vehicle for future development of the \n",
            "subject another important aspect of the introduction of algebraic ideas was that it allowed mathematics to be applied to itself in a \n",
            "way which had not happened before\n"
          ],
          "name": "stdout"
        }
      ]
    },
    {
      "cell_type": "code",
      "metadata": {
        "colab": {
          "base_uri": "https://localhost:8080/"
        },
        "id": "eM3i3Du_AtiC",
        "outputId": "2ed6aa70-796d-47ae-f654-ea4bde5f8e42"
      },
      "source": [
        "#word Tokenization\n",
        "from nltk.tokenize import TweetTokenizer\n",
        "wordtokenization=TweetTokenizer().tokenize(nopuncttext)\n",
        "print(wordtokenization)"
      ],
      "execution_count": 5,
      "outputs": [
        {
          "output_type": "stream",
          "text": [
            "['perhaps', 'one', 'of', 'the', 'most', 'significant', 'advances', 'made', 'by', 'arabic', 'mathematics', 'began', 'at', 'this', 'time', 'with', 'the', 'work', 'of', 'alkhwarizmi', 'namely', 'the', 'beginnings', 'of', 'algebra', 'it', 'is', 'important', 'to', 'understand', 'just', 'how', 'significant', 'this', 'new', 'idea', 'was', 'it', 'was', 'a', 'revolutionary', 'move', 'away', 'from', 'the', 'greek', 'concept', 'of', 'mathematics', 'which', 'was', 'essentially', 'geometry', 'algebra', 'was', 'a', 'unifying', 'theory', 'which', 'allowed', 'rational', 'numbers', 'irrational', 'numbers', 'geometrical', 'magnitudes', 'etc', 'to', 'all', 'be', 'treated', 'as', 'algebraic', 'objects', 'it', 'gave', 'mathematics', 'a', 'whole', 'new', 'development', 'path', 'so', 'much', 'broader', 'in', 'concept', 'to', 'that', 'which', 'had', 'existed', 'before', 'and', 'provided', 'a', 'vehicle', 'for', 'future', 'development', 'of', 'the', 'subject', 'another', 'important', 'aspect', 'of', 'the', 'introduction', 'of', 'algebraic', 'ideas', 'was', 'that', 'it', 'allowed', 'mathematics', 'to', 'be', 'applied', 'to', 'itself', 'in', 'a', 'way', 'which', 'had', 'not', 'happened', 'before']\n"
          ],
          "name": "stdout"
        }
      ]
    },
    {
      "cell_type": "code",
      "metadata": {
        "colab": {
          "base_uri": "https://localhost:8080/"
        },
        "id": "-ClLRxE3A0Gq",
        "outputId": "ddc89d6d-2699-42ba-c5cb-c92e946ba2ff"
      },
      "source": [
        "#Punkt Sentence Tokenizer\n",
        "#This tokenizer divides a text into a list of sentences by using an unsupervised algorithm to build a model for abbreviation words, collocations, \n",
        "#and words that start sentences. It must be trained on a large collection of plaintext in the target language before it can be used.\n",
        "#The NLTK data package includes a pre-trained Punkt tokenizer for English.\n",
        "import nltk.data\n",
        "nltk.download('punkt')\n",
        "sentence_detector = nltk.data.load('tokenizers/punkt/english.pickle')\n",
        "print('\\n-----\\n'.join(sentence_detector.tokenize(textEng.strip())))"
      ],
      "execution_count": 7,
      "outputs": [
        {
          "output_type": "stream",
          "text": [
            "[nltk_data] Downloading package punkt to /root/nltk_data...\n",
            "[nltk_data]   Unzipping tokenizers/punkt.zip.\n",
            "perhaps one of the most significant advances made by arabic mathematics began at this time with the work of al-khwarizmi, namely \n",
            "the beginnings of algebra.\n",
            "-----\n",
            "it is important to understand just how significant this new idea was.\n",
            "-----\n",
            "it was a revolutionary move away from \n",
            "the greek concept of mathematics which was essentially geometry.\n",
            "-----\n",
            "algebra was a unifying theory which allowed rational \n",
            "numbers, irrational numbers, geometrical magnitudes, etc., to all be treated as \"algebraic objects\".\n",
            "-----\n",
            "it gave mathematics a whole new \n",
            "development path so much broader in concept to that which had existed before, and provided a vehicle for future development of the \n",
            "subject.\n",
            "-----\n",
            "another important aspect of the introduction of algebraic ideas was that it allowed mathematics to be applied to itself in a \n",
            "way which had not happened before.\n"
          ],
          "name": "stdout"
        }
      ]
    },
    {
      "cell_type": "code",
      "metadata": {
        "colab": {
          "base_uri": "https://localhost:8080/"
        },
        "id": "ocwoMop1A90j",
        "outputId": "00080e68-5763-4635-b95d-2319dd6776db"
      },
      "source": [
        "#sentence tokenization\n",
        "from nltk.tokenize import  sent_tokenize\n",
        "#sent_tokenize(nopuncttext)\n",
        "textSentTok=sent_tokenize(textEng)\n",
        "print(textSentTok)\n"
      ],
      "execution_count": 9,
      "outputs": [
        {
          "output_type": "stream",
          "text": [
            "['perhaps one of the most significant advances made by arabic mathematics began at this time with the work of al-khwarizmi, namely \\nthe beginnings of algebra.', 'it is important to understand just how significant this new idea was.', 'it was a revolutionary move away from \\nthe greek concept of mathematics which was essentially geometry.', 'algebra was a unifying theory which allowed rational \\nnumbers, irrational numbers, geometrical magnitudes, etc., to all be treated as \"algebraic objects\".', 'it gave mathematics a whole new \\ndevelopment path so much broader in concept to that which had existed before, and provided a vehicle for future development of the \\nsubject.', 'another important aspect of the introduction of algebraic ideas was that it allowed mathematics to be applied to itself in a \\nway which had not happened before.']\n"
          ],
          "name": "stdout"
        }
      ]
    },
    {
      "cell_type": "code",
      "metadata": {
        "colab": {
          "base_uri": "https://localhost:8080/"
        },
        "id": "2C3OPN31BFOa",
        "outputId": "6a7ed428-d7fb-4b60-9b6e-1e780a0d80ab"
      },
      "source": [
        "#stemming\n",
        "from nltk.stem import PorterStemmer\n",
        "from nltk.stem import LancasterStemmer\n",
        "from nltk.stem import RegexpStemmer\n",
        "\n",
        "wd=PorterStemmer()\n",
        "textstemmed=[wd.stem(x)for x in wordtokenization]\n",
        "print(textstemmed)"
      ],
      "execution_count": 10,
      "outputs": [
        {
          "output_type": "stream",
          "text": [
            "['perhap', 'one', 'of', 'the', 'most', 'signific', 'advanc', 'made', 'by', 'arab', 'mathemat', 'began', 'at', 'thi', 'time', 'with', 'the', 'work', 'of', 'alkhwarizmi', 'name', 'the', 'begin', 'of', 'algebra', 'it', 'is', 'import', 'to', 'understand', 'just', 'how', 'signific', 'thi', 'new', 'idea', 'wa', 'it', 'wa', 'a', 'revolutionari', 'move', 'away', 'from', 'the', 'greek', 'concept', 'of', 'mathemat', 'which', 'wa', 'essenti', 'geometri', 'algebra', 'wa', 'a', 'unifi', 'theori', 'which', 'allow', 'ration', 'number', 'irrat', 'number', 'geometr', 'magnitud', 'etc', 'to', 'all', 'be', 'treat', 'as', 'algebra', 'object', 'it', 'gave', 'mathemat', 'a', 'whole', 'new', 'develop', 'path', 'so', 'much', 'broader', 'in', 'concept', 'to', 'that', 'which', 'had', 'exist', 'befor', 'and', 'provid', 'a', 'vehicl', 'for', 'futur', 'develop', 'of', 'the', 'subject', 'anoth', 'import', 'aspect', 'of', 'the', 'introduct', 'of', 'algebra', 'idea', 'wa', 'that', 'it', 'allow', 'mathemat', 'to', 'be', 'appli', 'to', 'itself', 'in', 'a', 'way', 'which', 'had', 'not', 'happen', 'befor']\n"
          ],
          "name": "stdout"
        }
      ]
    },
    {
      "cell_type": "code",
      "metadata": {
        "colab": {
          "base_uri": "https://localhost:8080/"
        },
        "id": "KpVtnyzmBLJ6",
        "outputId": "90afe0d5-bd61-4bff-e627-1e8c5b58a4ab"
      },
      "source": [
        "#lemmatization\n",
        "from nltk.stem import WordNetLemmatizer\n",
        "nltk.download('wordnet')\n",
        "lem=WordNetLemmatizer()\n",
        "for i in wordtokenization:\n",
        "  print(lem.lemmatize(i))"
      ],
      "execution_count": 11,
      "outputs": [
        {
          "output_type": "stream",
          "text": [
            "[nltk_data] Downloading package wordnet to /root/nltk_data...\n",
            "[nltk_data]   Unzipping corpora/wordnet.zip.\n",
            "perhaps\n",
            "one\n",
            "of\n",
            "the\n",
            "most\n",
            "significant\n",
            "advance\n",
            "made\n",
            "by\n",
            "arabic\n",
            "mathematics\n",
            "began\n",
            "at\n",
            "this\n",
            "time\n",
            "with\n",
            "the\n",
            "work\n",
            "of\n",
            "alkhwarizmi\n",
            "namely\n",
            "the\n",
            "beginning\n",
            "of\n",
            "algebra\n",
            "it\n",
            "is\n",
            "important\n",
            "to\n",
            "understand\n",
            "just\n",
            "how\n",
            "significant\n",
            "this\n",
            "new\n",
            "idea\n",
            "wa\n",
            "it\n",
            "wa\n",
            "a\n",
            "revolutionary\n",
            "move\n",
            "away\n",
            "from\n",
            "the\n",
            "greek\n",
            "concept\n",
            "of\n",
            "mathematics\n",
            "which\n",
            "wa\n",
            "essentially\n",
            "geometry\n",
            "algebra\n",
            "wa\n",
            "a\n",
            "unifying\n",
            "theory\n",
            "which\n",
            "allowed\n",
            "rational\n",
            "number\n",
            "irrational\n",
            "number\n",
            "geometrical\n",
            "magnitude\n",
            "etc\n",
            "to\n",
            "all\n",
            "be\n",
            "treated\n",
            "a\n",
            "algebraic\n",
            "object\n",
            "it\n",
            "gave\n",
            "mathematics\n",
            "a\n",
            "whole\n",
            "new\n",
            "development\n",
            "path\n",
            "so\n",
            "much\n",
            "broader\n",
            "in\n",
            "concept\n",
            "to\n",
            "that\n",
            "which\n",
            "had\n",
            "existed\n",
            "before\n",
            "and\n",
            "provided\n",
            "a\n",
            "vehicle\n",
            "for\n",
            "future\n",
            "development\n",
            "of\n",
            "the\n",
            "subject\n",
            "another\n",
            "important\n",
            "aspect\n",
            "of\n",
            "the\n",
            "introduction\n",
            "of\n",
            "algebraic\n",
            "idea\n",
            "wa\n",
            "that\n",
            "it\n",
            "allowed\n",
            "mathematics\n",
            "to\n",
            "be\n",
            "applied\n",
            "to\n",
            "itself\n",
            "in\n",
            "a\n",
            "way\n",
            "which\n",
            "had\n",
            "not\n",
            "happened\n",
            "before\n"
          ],
          "name": "stdout"
        }
      ]
    },
    {
      "cell_type": "code",
      "metadata": {
        "colab": {
          "base_uri": "https://localhost:8080/"
        },
        "id": "5ku0AdJ6BTAj",
        "outputId": "7b7f009f-a1f1-45e8-8539-4f409828a3c0"
      },
      "source": [
        "#POS Tagger\n",
        "from nltk import pos_tag\n",
        "nltk.download('averaged_perceptron_tagger')\n",
        "pos_txt = pos_tag(wordtokenization)\n",
        "\n",
        "print(pos_txt)"
      ],
      "execution_count": 14,
      "outputs": [
        {
          "output_type": "stream",
          "text": [
            "[nltk_data] Downloading package averaged_perceptron_tagger to\n",
            "[nltk_data]     /root/nltk_data...\n",
            "[nltk_data]   Package averaged_perceptron_tagger is already up-to-\n",
            "[nltk_data]       date!\n",
            "[('perhaps', 'RB'), ('one', 'CD'), ('of', 'IN'), ('the', 'DT'), ('most', 'RBS'), ('significant', 'JJ'), ('advances', 'NNS'), ('made', 'VBN'), ('by', 'IN'), ('arabic', 'JJ'), ('mathematics', 'NNS'), ('began', 'VBD'), ('at', 'IN'), ('this', 'DT'), ('time', 'NN'), ('with', 'IN'), ('the', 'DT'), ('work', 'NN'), ('of', 'IN'), ('alkhwarizmi', 'NN'), ('namely', 'RB'), ('the', 'DT'), ('beginnings', 'NNS'), ('of', 'IN'), ('algebra', 'NN'), ('it', 'PRP'), ('is', 'VBZ'), ('important', 'JJ'), ('to', 'TO'), ('understand', 'VB'), ('just', 'RB'), ('how', 'WRB'), ('significant', 'JJ'), ('this', 'DT'), ('new', 'JJ'), ('idea', 'NN'), ('was', 'VBD'), ('it', 'PRP'), ('was', 'VBD'), ('a', 'DT'), ('revolutionary', 'JJ'), ('move', 'NN'), ('away', 'RB'), ('from', 'IN'), ('the', 'DT'), ('greek', 'JJ'), ('concept', 'NN'), ('of', 'IN'), ('mathematics', 'NNS'), ('which', 'WDT'), ('was', 'VBD'), ('essentially', 'RB'), ('geometry', 'JJ'), ('algebra', 'NN'), ('was', 'VBD'), ('a', 'DT'), ('unifying', 'JJ'), ('theory', 'NN'), ('which', 'WDT'), ('allowed', 'VBD'), ('rational', 'JJ'), ('numbers', 'NNS'), ('irrational', 'JJ'), ('numbers', 'NNS'), ('geometrical', 'JJ'), ('magnitudes', 'NNS'), ('etc', 'VBP'), ('to', 'TO'), ('all', 'DT'), ('be', 'VB'), ('treated', 'VBN'), ('as', 'IN'), ('algebraic', 'JJ'), ('objects', 'NNS'), ('it', 'PRP'), ('gave', 'VBD'), ('mathematics', 'NNS'), ('a', 'DT'), ('whole', 'JJ'), ('new', 'JJ'), ('development', 'NN'), ('path', 'NN'), ('so', 'RB'), ('much', 'JJ'), ('broader', 'JJR'), ('in', 'IN'), ('concept', 'NN'), ('to', 'TO'), ('that', 'DT'), ('which', 'WDT'), ('had', 'VBD'), ('existed', 'VBN'), ('before', 'IN'), ('and', 'CC'), ('provided', 'VBD'), ('a', 'DT'), ('vehicle', 'NN'), ('for', 'IN'), ('future', 'JJ'), ('development', 'NN'), ('of', 'IN'), ('the', 'DT'), ('subject', 'NN'), ('another', 'DT'), ('important', 'JJ'), ('aspect', 'NN'), ('of', 'IN'), ('the', 'DT'), ('introduction', 'NN'), ('of', 'IN'), ('algebraic', 'JJ'), ('ideas', 'NNS'), ('was', 'VBD'), ('that', 'IN'), ('it', 'PRP'), ('allowed', 'VBD'), ('mathematics', 'NNS'), ('to', 'TO'), ('be', 'VB'), ('applied', 'VBN'), ('to', 'TO'), ('itself', 'PRP'), ('in', 'IN'), ('a', 'DT'), ('way', 'NN'), ('which', 'WDT'), ('had', 'VBD'), ('not', 'RB'), ('happened', 'VBN'), ('before', 'IN')]\n"
          ],
          "name": "stdout"
        }
      ]
    },
    {
      "cell_type": "code",
      "metadata": {
        "colab": {
          "base_uri": "https://localhost:8080/"
        },
        "id": "c1cgOapyBm9G",
        "outputId": "59726dfb-466a-448b-e3f6-ea78d54bf2bf"
      },
      "source": [
        "\n",
        "import string\n",
        "text = u'ربما كانت أحد أهم التطورات التي قامت بها الرياضيات العربية التي بدأت في هذا الوقت بعمل الخوارزمي و هي بدايات الجبر، و من المهم فهم كيف كانت هذه الفكرة الجديدة مهمة، فقد كانت خطوة ثورية بعيدا عن المفهوم اليوناني للرياضيات التي هي في جوهرها هندسة، الجبر كان نظرية موحدة تتيح الأعداد الكسرية و الأعداد اللا كسرية، و المقادير الهندسية و غيرها، أن تتعامل على أنها أجسام جبرية، و أعطت الرياضيات ككل مسارا جديدا للتطور بمفهوم أوسع بكثير من الذي كان موجودا من قبل، و قدم وسيلة للتنمية في هذا الموضوع مستقبلا و جانب آخر مهم لإدخال أفكار الجبر و هو أنه سمح بتطبيق الرياضيات على نفسها بطريقة لم تحدث من قبل'\n",
        "\n",
        "\n",
        "#Remove punctuation\n",
        "punctuations = '''`÷×؛<>_()*&^%][ـ،/:\"؟.,'{}~¦+|!”…“–ـ''' + string.punctuation\n",
        "text_p = \"\".join([char for char in text if char not in punctuations])\n",
        "print(text_p)\n",
        "\n"
      ],
      "execution_count": 18,
      "outputs": [
        {
          "output_type": "stream",
          "text": [
            "ربما كانت أحد أهم التطورات التي قامت بها الرياضيات العربية التي بدأت في هذا الوقت بعمل الخوارزمي و هي بدايات الجبر و من المهم فهم كيف كانت هذه الفكرة الجديدة مهمة فقد كانت خطوة ثورية بعيدا عن المفهوم اليوناني للرياضيات التي هي في جوهرها هندسة الجبر كان نظرية موحدة تتيح الأعداد الكسرية و الأعداد اللا كسرية و المقادير الهندسية و غيرها أن تتعامل على أنها أجسام جبرية و أعطت الرياضيات ككل مسارا جديدا للتطور بمفهوم أوسع بكثير من الذي كان موجودا من قبل و قدم وسيلة للتنمية في هذا الموضوع مستقبلا و جانب آخر مهم لإدخال أفكار الجبر و هو أنه سمح بتطبيق الرياضيات على نفسها بطريقة لم تحدث من قبل\n"
          ],
          "name": "stdout"
        }
      ]
    },
    {
      "cell_type": "code",
      "metadata": {
        "colab": {
          "base_uri": "https://localhost:8080/"
        },
        "id": "qCHl1V9IChvW",
        "outputId": "851888c3-3ff4-4543-ebd3-2869f1f235d5"
      },
      "source": [
        "#Word Tokenization\n",
        "from nltk import word_tokenize\n",
        "nltk.download('words')\n",
        "nltk.download('words')\n",
        "words = word_tokenize(text_p)\n",
        "print(words)\n",
        "\n"
      ],
      "execution_count": 19,
      "outputs": [
        {
          "output_type": "stream",
          "text": [
            "[nltk_data] Downloading package words to /root/nltk_data...\n",
            "[nltk_data]   Package words is already up-to-date!\n",
            "[nltk_data] Downloading package words to /root/nltk_data...\n",
            "[nltk_data]   Package words is already up-to-date!\n",
            "['ربما', 'كانت', 'أحد', 'أهم', 'التطورات', 'التي', 'قامت', 'بها', 'الرياضيات', 'العربية', 'التي', 'بدأت', 'في', 'هذا', 'الوقت', 'بعمل', 'الخوارزمي', 'و', 'هي', 'بدايات', 'الجبر', 'و', 'من', 'المهم', 'فهم', 'كيف', 'كانت', 'هذه', 'الفكرة', 'الجديدة', 'مهمة', 'فقد', 'كانت', 'خطوة', 'ثورية', 'بعيدا', 'عن', 'المفهوم', 'اليوناني', 'للرياضيات', 'التي', 'هي', 'في', 'جوهرها', 'هندسة', 'الجبر', 'كان', 'نظرية', 'موحدة', 'تتيح', 'الأعداد', 'الكسرية', 'و', 'الأعداد', 'اللا', 'كسرية', 'و', 'المقادير', 'الهندسية', 'و', 'غيرها', 'أن', 'تتعامل', 'على', 'أنها', 'أجسام', 'جبرية', 'و', 'أعطت', 'الرياضيات', 'ككل', 'مسارا', 'جديدا', 'للتطور', 'بمفهوم', 'أوسع', 'بكثير', 'من', 'الذي', 'كان', 'موجودا', 'من', 'قبل', 'و', 'قدم', 'وسيلة', 'للتنمية', 'في', 'هذا', 'الموضوع', 'مستقبلا', 'و', 'جانب', 'آخر', 'مهم', 'لإدخال', 'أفكار', 'الجبر', 'و', 'هو', 'أنه', 'سمح', 'بتطبيق', 'الرياضيات', 'على', 'نفسها', 'بطريقة', 'لم', 'تحدث', 'من', 'قبل']\n"
          ],
          "name": "stdout"
        }
      ]
    },
    {
      "cell_type": "code",
      "metadata": {
        "colab": {
          "base_uri": "https://localhost:8080/"
        },
        "id": "RDnKS08lClp-",
        "outputId": "08fddbaf-3c3e-4a09-ce6f-302944fce898"
      },
      "source": [
        "#Stemming\n",
        "\n",
        "porter = PorterStemmer()\n",
        "stemmed = [porter.stem(word) for word in words]\n",
        "print(stemmed)\n"
      ],
      "execution_count": 20,
      "outputs": [
        {
          "output_type": "stream",
          "text": [
            "['ربما', 'كانت', 'أحد', 'أهم', 'التطورات', 'التي', 'قامت', 'بها', 'الرياضيات', 'العربية', 'التي', 'بدأت', 'في', 'هذا', 'الوقت', 'بعمل', 'الخوارزمي', 'و', 'هي', 'بدايات', 'الجبر', 'و', 'من', 'المهم', 'فهم', 'كيف', 'كانت', 'هذه', 'الفكرة', 'الجديدة', 'مهمة', 'فقد', 'كانت', 'خطوة', 'ثورية', 'بعيدا', 'عن', 'المفهوم', 'اليوناني', 'للرياضيات', 'التي', 'هي', 'في', 'جوهرها', 'هندسة', 'الجبر', 'كان', 'نظرية', 'موحدة', 'تتيح', 'الأعداد', 'الكسرية', 'و', 'الأعداد', 'اللا', 'كسرية', 'و', 'المقادير', 'الهندسية', 'و', 'غيرها', 'أن', 'تتعامل', 'على', 'أنها', 'أجسام', 'جبرية', 'و', 'أعطت', 'الرياضيات', 'ككل', 'مسارا', 'جديدا', 'للتطور', 'بمفهوم', 'أوسع', 'بكثير', 'من', 'الذي', 'كان', 'موجودا', 'من', 'قبل', 'و', 'قدم', 'وسيلة', 'للتنمية', 'في', 'هذا', 'الموضوع', 'مستقبلا', 'و', 'جانب', 'آخر', 'مهم', 'لإدخال', 'أفكار', 'الجبر', 'و', 'هو', 'أنه', 'سمح', 'بتطبيق', 'الرياضيات', 'على', 'نفسها', 'بطريقة', 'لم', 'تحدث', 'من', 'قبل']\n"
          ],
          "name": "stdout"
        }
      ]
    },
    {
      "cell_type": "code",
      "metadata": {
        "colab": {
          "base_uri": "https://localhost:8080/"
        },
        "id": "ODGk82NhCntV",
        "outputId": "83087ed5-3df5-460f-b78a-8ae807ae9d29"
      },
      "source": [
        "\n",
        "#lemmatization\n",
        "\n",
        "lemmatizer=WordNetLemmatizer()\n",
        "for word in words:\n",
        "    print(lemmatizer.lemmatize(word))\n",
        "\n"
      ],
      "execution_count": 21,
      "outputs": [
        {
          "output_type": "stream",
          "text": [
            "ربما\n",
            "كانت\n",
            "أحد\n",
            "أهم\n",
            "التطورات\n",
            "التي\n",
            "قامت\n",
            "بها\n",
            "الرياضيات\n",
            "العربية\n",
            "التي\n",
            "بدأت\n",
            "في\n",
            "هذا\n",
            "الوقت\n",
            "بعمل\n",
            "الخوارزمي\n",
            "و\n",
            "هي\n",
            "بدايات\n",
            "الجبر\n",
            "و\n",
            "من\n",
            "المهم\n",
            "فهم\n",
            "كيف\n",
            "كانت\n",
            "هذه\n",
            "الفكرة\n",
            "الجديدة\n",
            "مهمة\n",
            "فقد\n",
            "كانت\n",
            "خطوة\n",
            "ثورية\n",
            "بعيدا\n",
            "عن\n",
            "المفهوم\n",
            "اليوناني\n",
            "للرياضيات\n",
            "التي\n",
            "هي\n",
            "في\n",
            "جوهرها\n",
            "هندسة\n",
            "الجبر\n",
            "كان\n",
            "نظرية\n",
            "موحدة\n",
            "تتيح\n",
            "الأعداد\n",
            "الكسرية\n",
            "و\n",
            "الأعداد\n",
            "اللا\n",
            "كسرية\n",
            "و\n",
            "المقادير\n",
            "الهندسية\n",
            "و\n",
            "غيرها\n",
            "أن\n",
            "تتعامل\n",
            "على\n",
            "أنها\n",
            "أجسام\n",
            "جبرية\n",
            "و\n",
            "أعطت\n",
            "الرياضيات\n",
            "ككل\n",
            "مسارا\n",
            "جديدا\n",
            "للتطور\n",
            "بمفهوم\n",
            "أوسع\n",
            "بكثير\n",
            "من\n",
            "الذي\n",
            "كان\n",
            "موجودا\n",
            "من\n",
            "قبل\n",
            "و\n",
            "قدم\n",
            "وسيلة\n",
            "للتنمية\n",
            "في\n",
            "هذا\n",
            "الموضوع\n",
            "مستقبلا\n",
            "و\n",
            "جانب\n",
            "آخر\n",
            "مهم\n",
            "لإدخال\n",
            "أفكار\n",
            "الجبر\n",
            "و\n",
            "هو\n",
            "أنه\n",
            "سمح\n",
            "بتطبيق\n",
            "الرياضيات\n",
            "على\n",
            "نفسها\n",
            "بطريقة\n",
            "لم\n",
            "تحدث\n",
            "من\n",
            "قبل\n"
          ],
          "name": "stdout"
        }
      ]
    },
    {
      "cell_type": "code",
      "metadata": {
        "colab": {
          "base_uri": "https://localhost:8080/"
        },
        "id": "a7wRbSiGCpyu",
        "outputId": "f3743bae-3e4f-453c-ba68-243078c5c5c2"
      },
      "source": [
        "#POS Tagger\n",
        "pos = pos_tag(words)\n",
        "print(pos)"
      ],
      "execution_count": 22,
      "outputs": [
        {
          "output_type": "stream",
          "text": [
            "[('ربما', 'JJ'), ('كانت', 'NNP'), ('أحد', 'NNP'), ('أهم', 'NNP'), ('التطورات', 'NNP'), ('التي', 'NNP'), ('قامت', 'NNP'), ('بها', 'NNP'), ('الرياضيات', 'NNP'), ('العربية', 'NNP'), ('التي', 'NNP'), ('بدأت', 'NNP'), ('في', 'NNP'), ('هذا', 'NNP'), ('الوقت', 'NNP'), ('بعمل', 'NNP'), ('الخوارزمي', 'NNP'), ('و', 'NNP'), ('هي', 'NNP'), ('بدايات', 'NNP'), ('الجبر', 'NNP'), ('و', 'NNP'), ('من', 'NNP'), ('المهم', 'NNP'), ('فهم', 'NNP'), ('كيف', 'NNP'), ('كانت', 'NNP'), ('هذه', 'NNP'), ('الفكرة', 'NNP'), ('الجديدة', 'NNP'), ('مهمة', 'NNP'), ('فقد', 'NNP'), ('كانت', 'NNP'), ('خطوة', 'NNP'), ('ثورية', 'NNP'), ('بعيدا', 'NNP'), ('عن', 'NNP'), ('المفهوم', 'NNP'), ('اليوناني', 'NNP'), ('للرياضيات', 'NNP'), ('التي', 'NNP'), ('هي', 'NNP'), ('في', 'NNP'), ('جوهرها', 'NNP'), ('هندسة', 'NNP'), ('الجبر', 'NNP'), ('كان', 'NNP'), ('نظرية', 'NNP'), ('موحدة', 'NNP'), ('تتيح', 'NNP'), ('الأعداد', 'NNP'), ('الكسرية', 'NNP'), ('و', 'NNP'), ('الأعداد', 'NNP'), ('اللا', 'NNP'), ('كسرية', 'NNP'), ('و', 'NNP'), ('المقادير', 'NNP'), ('الهندسية', 'NNP'), ('و', 'NNP'), ('غيرها', 'NNP'), ('أن', 'NNP'), ('تتعامل', 'NNP'), ('على', 'NNP'), ('أنها', 'NNP'), ('أجسام', 'NNP'), ('جبرية', 'NNP'), ('و', 'NNP'), ('أعطت', 'NNP'), ('الرياضيات', 'NNP'), ('ككل', 'NNP'), ('مسارا', 'NNP'), ('جديدا', 'NNP'), ('للتطور', 'NNP'), ('بمفهوم', 'NNP'), ('أوسع', 'NNP'), ('بكثير', 'NNP'), ('من', 'NNP'), ('الذي', 'NNP'), ('كان', 'NNP'), ('موجودا', 'NNP'), ('من', 'NNP'), ('قبل', 'NNP'), ('و', 'NNP'), ('قدم', 'NNP'), ('وسيلة', 'NNP'), ('للتنمية', 'NNP'), ('في', 'NNP'), ('هذا', 'NNP'), ('الموضوع', 'NNP'), ('مستقبلا', 'NNP'), ('و', 'NNP'), ('جانب', 'NNP'), ('آخر', 'NNP'), ('مهم', 'NNP'), ('لإدخال', 'NNP'), ('أفكار', 'NNP'), ('الجبر', 'NNP'), ('و', 'NNP'), ('هو', 'NNP'), ('أنه', 'NNP'), ('سمح', 'NNP'), ('بتطبيق', 'NNP'), ('الرياضيات', 'NNP'), ('على', 'NNP'), ('نفسها', 'NNP'), ('بطريقة', 'NNP'), ('لم', 'NNP'), ('تحدث', 'NNP'), ('من', 'NNP'), ('قبل', 'NN')]\n"
          ],
          "name": "stdout"
        }
      ]
    }
  ]
}