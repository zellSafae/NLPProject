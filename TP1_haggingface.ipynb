{
  "nbformat": 4,
  "nbformat_minor": 0,
  "metadata": {
    "colab": {
      "name": "Untitled4.ipynb",
      "provenance": []
    },
    "kernelspec": {
      "name": "python3",
      "display_name": "Python 3"
    },
    "language_info": {
      "name": "python"
    }
  },
  "cells": [
    {
      "cell_type": "code",
      "metadata": {
        "colab": {
          "base_uri": "https://localhost:8080/"
        },
        "id": "vFrgrw3eDIGs",
        "outputId": "48c763b8-0c1a-47ca-f0e3-99944f4e96f3"
      },
      "source": [
        "# *****************zellou safae - TP1 -  Processing texts using Haggingface library ****************************\n",
        "!pip install transformers\n",
        "\n",
        "import transformers\n",
        "from transformers import AutoTokenizer\n",
        "from transformers import BertModel, BertTokenizer, AdamW, get_linear_schedule_with_warmup\n",
        "from flair.data import Sentence\n",
        "from flair.models import SequenceTagger\n",
        "\n",
        "\n",
        "\n",
        "text=\"Perhaps one of the most significant advances made by Arabic mathematics began at this time with the work of al-Khwarizmi, namely the beginnings of algebra. It is important to understand just how significant this new idea was. It was a revolutionary move away from the Greek concept of mathematics which was essentially geometry. Algebra was a unifying theory which allowed rational numbers, irrational numbers, geometrical magnitudes, etc., to all be treated as \\\"algebraic objects\\\". It gave mathematics a whole new development path so much broader in concept to that which had existed before, and provided a vehicle for future development of the subject. Another important aspect of the introduction of algebraic ideas was that it allowed mathematics to be applied to itself in a way which had not happened before.\"\n",
        "\n",
        "#Tokenization\n",
        "PRE_TRAINED_MODEL_NAME = 'bert-base-cased'\n",
        "tokenizer = BertTokenizer.from_pretrained(PRE_TRAINED_MODEL_NAME)\n",
        "tokens = tokenizer.tokenize(text)\n",
        "\n",
        "\n",
        "print(f' Sentence: {text}')\n",
        "print(f'   Tokens: {tokens}')\n"
      ],
      "execution_count": 3,
      "outputs": [
        {
          "output_type": "stream",
          "text": [
            "Requirement already satisfied: transformers in /usr/local/lib/python3.7/dist-packages (4.8.2)\n",
            "Requirement already satisfied: tokenizers<0.11,>=0.10.1 in /usr/local/lib/python3.7/dist-packages (from transformers) (0.10.3)\n",
            "Requirement already satisfied: sacremoses in /usr/local/lib/python3.7/dist-packages (from transformers) (0.0.45)\n",
            "Requirement already satisfied: packaging in /usr/local/lib/python3.7/dist-packages (from transformers) (20.9)\n",
            "Requirement already satisfied: filelock in /usr/local/lib/python3.7/dist-packages (from transformers) (3.0.12)\n",
            "Requirement already satisfied: regex!=2019.12.17 in /usr/local/lib/python3.7/dist-packages (from transformers) (2019.12.20)\n",
            "Requirement already satisfied: importlib-metadata; python_version < \"3.8\" in /usr/local/lib/python3.7/dist-packages (from transformers) (4.5.0)\n",
            "Requirement already satisfied: pyyaml in /usr/local/lib/python3.7/dist-packages (from transformers) (3.13)\n",
            "Requirement already satisfied: tqdm>=4.27 in /usr/local/lib/python3.7/dist-packages (from transformers) (4.41.1)\n",
            "Requirement already satisfied: huggingface-hub==0.0.12 in /usr/local/lib/python3.7/dist-packages (from transformers) (0.0.12)\n",
            "Requirement already satisfied: numpy>=1.17 in /usr/local/lib/python3.7/dist-packages (from transformers) (1.19.5)\n",
            "Requirement already satisfied: requests in /usr/local/lib/python3.7/dist-packages (from transformers) (2.23.0)\n",
            "Requirement already satisfied: click in /usr/local/lib/python3.7/dist-packages (from sacremoses->transformers) (7.1.2)\n",
            "Requirement already satisfied: joblib in /usr/local/lib/python3.7/dist-packages (from sacremoses->transformers) (1.0.1)\n",
            "Requirement already satisfied: six in /usr/local/lib/python3.7/dist-packages (from sacremoses->transformers) (1.15.0)\n",
            "Requirement already satisfied: pyparsing>=2.0.2 in /usr/local/lib/python3.7/dist-packages (from packaging->transformers) (2.4.7)\n",
            "Requirement already satisfied: zipp>=0.5 in /usr/local/lib/python3.7/dist-packages (from importlib-metadata; python_version < \"3.8\"->transformers) (3.4.1)\n",
            "Requirement already satisfied: typing-extensions>=3.6.4; python_version < \"3.8\" in /usr/local/lib/python3.7/dist-packages (from importlib-metadata; python_version < \"3.8\"->transformers) (3.7.4.3)\n",
            "Requirement already satisfied: urllib3!=1.25.0,!=1.25.1,<1.26,>=1.21.1 in /usr/local/lib/python3.7/dist-packages (from requests->transformers) (1.24.3)\n",
            "Requirement already satisfied: chardet<4,>=3.0.2 in /usr/local/lib/python3.7/dist-packages (from requests->transformers) (3.0.4)\n",
            "Requirement already satisfied: idna<3,>=2.5 in /usr/local/lib/python3.7/dist-packages (from requests->transformers) (2.10)\n",
            "Requirement already satisfied: certifi>=2017.4.17 in /usr/local/lib/python3.7/dist-packages (from requests->transformers) (2021.5.30)\n",
            " Sentence: Perhaps one of the most significant advances made by Arabic mathematics began at this time with the work of al-Khwarizmi, namely the beginnings of algebra. It is important to understand just how significant this new idea was. It was a revolutionary move away from the Greek concept of mathematics which was essentially geometry. Algebra was a unifying theory which allowed rational numbers, irrational numbers, geometrical magnitudes, etc., to all be treated as \"algebraic objects\". It gave mathematics a whole new development path so much broader in concept to that which had existed before, and provided a vehicle for future development of the subject. Another important aspect of the introduction of algebraic ideas was that it allowed mathematics to be applied to itself in a way which had not happened before.\n",
            "   Tokens: ['Perhaps', 'one', 'of', 'the', 'most', 'significant', 'advances', 'made', 'by', 'Arabic', 'mathematics', 'began', 'at', 'this', 'time', 'with', 'the', 'work', 'of', 'al', '-', 'K', '##hwa', '##riz', '##mi', ',', 'namely', 'the', 'beginnings', 'of', 'algebra', '.', 'It', 'is', 'important', 'to', 'understand', 'just', 'how', 'significant', 'this', 'new', 'idea', 'was', '.', 'It', 'was', 'a', 'revolutionary', 'move', 'away', 'from', 'the', 'Greek', 'concept', 'of', 'mathematics', 'which', 'was', 'essentially', 'geometry', '.', 'Al', '##ge', '##bra', 'was', 'a', 'un', '##ifying', 'theory', 'which', 'allowed', 'rational', 'numbers', ',', 'irrational', 'numbers', ',', 'geometric', '##al', 'magnitude', '##s', ',', 'etc', '.', ',', 'to', 'all', 'be', 'treated', 'as', '\"', 'algebraic', 'objects', '\"', '.', 'It', 'gave', 'mathematics', 'a', 'whole', 'new', 'development', 'path', 'so', 'much', 'broader', 'in', 'concept', 'to', 'that', 'which', 'had', 'existed', 'before', ',', 'and', 'provided', 'a', 'vehicle', 'for', 'future', 'development', 'of', 'the', 'subject', '.', 'Another', 'important', 'aspect', 'of', 'the', 'introduction', 'of', 'algebraic', 'ideas', 'was', 'that', 'it', 'allowed', 'mathematics', 'to', 'be', 'applied', 'to', 'itself', 'in', 'a', 'way', 'which', 'had', 'not', 'happened', 'before', '.']\n"
          ],
          "name": "stdout"
        }
      ]
    },
    {
      "cell_type": "code",
      "metadata": {
        "colab": {
          "base_uri": "https://localhost:8080/"
        },
        "id": "IFfICZqnEuZQ",
        "outputId": "f393d9cf-62ce-4ce4-a7b9-4d338b6c67ed"
      },
      "source": [
        "text_ar = 'ربما كانت أحد أهم التطورات التي قامت بها الرياضيات العربية التي بدأت في هذا الوقت بعمل الخوارزمي و هي بدايات الجبر، و من المهم فهم كيف كانت هذه الفكرة الجديدة مهمة، فقد كانت خطوة ثورية بعيدا عن المفهوم اليوناني للرياضيات التي هي في جوهرها هندسة، الجبر كان نظرية موحدة تتيح الأعداد الكسرية و الأعداد اللا كسرية، و المقادير الهندسية و غيرها، أن تتعامل على أنها أجسام جبرية، و أعطت الرياضيات ككل مسارا جديدا للتطور بمفهوم أوسع بكثير من الذي كان موجودا من قبل، و قدم وسيلة للتنمية في هذا الموضوع مستقبلا و جانب آخر مهم لإدخال أفكار الجبر و هو أنه سمح بتطبيق الرياضيات على نفسها بطريقة لم تحدث من قبل'\n",
        "\n",
        "#Tokenization\n",
        "PRE_TRAINED_MODEL_NAME = 'bert-base-cased'\n",
        "tokenizer = BertTokenizer.from_pretrained(PRE_TRAINED_MODEL_NAME)\n",
        "tokens = tokenizer.tokenize(text_ar)\n",
        "\n",
        "\n",
        "print(f' text: {text_ar}')\n",
        "print(f'   Tokens: {tokens}')"
      ],
      "execution_count": 2,
      "outputs": [
        {
          "output_type": "stream",
          "text": [
            " text: ربما كانت أحد أهم التطورات التي قامت بها الرياضيات العربية التي بدأت في هذا الوقت بعمل الخوارزمي و هي بدايات الجبر، و من المهم فهم كيف كانت هذه الفكرة الجديدة مهمة، فقد كانت خطوة ثورية بعيدا عن المفهوم اليوناني للرياضيات التي هي في جوهرها هندسة، الجبر كان نظرية موحدة تتيح الأعداد الكسرية و الأعداد اللا كسرية، و المقادير الهندسية و غيرها، أن تتعامل على أنها أجسام جبرية، و أعطت الرياضيات ككل مسارا جديدا للتطور بمفهوم أوسع بكثير من الذي كان موجودا من قبل، و قدم وسيلة للتنمية في هذا الموضوع مستقبلا و جانب آخر مهم لإدخال أفكار الجبر و هو أنه سمح بتطبيق الرياضيات على نفسها بطريقة لم تحدث من قبل\n",
            "   Tokens: ['ر', '##ب', '##م', '##ا', 'ك', '##ان', '##ت', 'أ', '##ح', '##د', 'أ', '##ه', '##م', 'ا', '##ل', '##ت', '##ط', '##و', '##ر', '##ا', '##ت', 'ا', '##ل', '##ت', '##ي', 'ق', '##ا', '##م', '##ت', 'ب', '##ه', '##ا', 'ا', '##ل', '##ر', '##ي', '##ا', '##ض', '##ي', '##ا', '##ت', 'ا', '##ل', '##ع', '##ر', '##ب', '##ي', '##ة', 'ا', '##ل', '##ت', '##ي', 'ب', '##د', '##أ', '##ت', 'ف', '##ي', 'ه', '##ذ', '##ا', 'ا', '##ل', '##و', '##ق', '##ت', 'ب', '##ع', '##م', '##ل', 'ا', '##ل', '##خ', '##و', '##ا', '##ر', '##ز', '##م', '##ي', 'و', 'ه', '##ي', 'ب', '##د', '##ا', '##ي', '##ا', '##ت', 'ا', '##ل', '##ج', '##ب', '##ر', '،', 'و', 'م', '##ن', 'ا', '##ل', '##م', '##ه', '##م', 'ف', '##ه', '##م', 'ك', '##ي', '##ف', 'ك', '##ان', '##ت', 'ه', '##ذ', '##ه', 'ا', '##ل', '##ف', '##ك', '##ر', '##ة', 'ا', '##ل', '##ج', '##د', '##ي', '##د', '##ة', 'م', '##ه', '##م', '##ة', '،', 'ف', '##ق', '##د', 'ك', '##ان', '##ت', 'خ', '##ط', '##و', '##ة', 'ث', '##و', '##ر', '##ي', '##ة', 'ب', '##ع', '##ي', '##د', '##ا', 'ع', '##ن', 'ا', '##ل', '##م', '##ف', '##ه', '##و', '##م', 'ا', '##ل', '##ي', '##و', '##ن', '##ان', '##ي', 'ل', '##ل', '##ر', '##ي', '##ا', '##ض', '##ي', '##ا', '##ت', 'ا', '##ل', '##ت', '##ي', 'ه', '##ي', 'ف', '##ي', 'ج', '##و', '##ه', '##ر', '##ه', '##ا', 'ه', '##ن', '##د', '##س', '##ة', '،', 'ا', '##ل', '##ج', '##ب', '##ر', 'ك', '##ان', 'ن', '##ظ', '##ر', '##ي', '##ة', 'م', '##و', '##ح', '##د', '##ة', 'ت', '##ت', '##ي', '##ح', 'ا', '##ل', '##أ', '##ع', '##د', '##اد', 'ا', '##ل', '##ك', '##س', '##ر', '##ي', '##ة', 'و', 'ا', '##ل', '##أ', '##ع', '##د', '##اد', 'ا', '##ل', '##ل', '##ا', 'ك', '##س', '##ر', '##ي', '##ة', '،', 'و', 'ا', '##ل', '##م', '##ق', '##اد', '##ي', '##ر', 'ا', '##ل', '##ه', '##ن', '##د', '##س', '##ي', '##ة', 'و', 'غ', '##ي', '##ر', '##ه', '##ا', '،', 'أ', '##ن', 'ت', '##ت', '##ع', '##ا', '##م', '##ل', 'ع', '##ل', '##ى', 'أ', '##ن', '##ه', '##ا', 'أ', '##ج', '##س', '##ا', '##م', 'ج', '##ب', '##ر', '##ي', '##ة', '،', 'و', 'أ', '##ع', '##ط', '##ت', 'ا', '##ل', '##ر', '##ي', '##ا', '##ض', '##ي', '##ا', '##ت', 'ك', '##ك', '##ل', 'م', '##س', '##ا', '##ر', '##ا', 'ج', '##د', '##ي', '##د', '##ا', 'ل', '##ل', '##ت', '##ط', '##و', '##ر', 'ب', '##م', '##ف', '##ه', '##و', '##م', 'أ', '##و', '##س', '##ع', 'ب', '##ك', '##ث', '##ي', '##ر', 'م', '##ن', 'ا', '##ل', '##ذ', '##ي', 'ك', '##ان', 'م', '##و', '##ج', '##و', '##د', '##ا', 'م', '##ن', 'ق', '##ب', '##ل', '،', 'و', 'ق', '##د', '##م', 'و', '##س', '##ي', '##ل', '##ة', 'ل', '##ل', '##ت', '##ن', '##م', '##ي', '##ة', 'ف', '##ي', 'ه', '##ذ', '##ا', 'ا', '##ل', '##م', '##و', '##ض', '##و', '##ع', 'م', '##س', '##ت', '##ق', '##ب', '##ل', '##ا', 'و', 'ج', '##ان', '##ب', 'آ', '##خ', '##ر', 'م', '##ه', '##م', 'ل', '##إ', '##د', '##خ', '##ا', '##ل', 'أ', '##ف', '##ك', '##ا', '##ر', 'ا', '##ل', '##ج', '##ب', '##ر', 'و', 'ه', '##و', 'أ', '##ن', '##ه', 'س', '##م', '##ح', 'ب', '##ت', '##ط', '##ب', '##ي', '##ق', 'ا', '##ل', '##ر', '##ي', '##ا', '##ض', '##ي', '##ا', '##ت', 'ع', '##ل', '##ى', 'ن', '##ف', '##س', '##ه', '##ا', 'ب', '##ط', '##ر', '##ي', '##ق', '##ة', 'ل', '##م', 'ت', '##ح', '##د', '##ث', 'م', '##ن', 'ق', '##ب', '##ل']\n"
          ],
          "name": "stdout"
        }
      ]
    }
  ]
}